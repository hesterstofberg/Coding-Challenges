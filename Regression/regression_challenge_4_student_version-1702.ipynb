{
 "cells": [
  {
   "cell_type": "markdown",
   "metadata": {},
   "source": [
    "# Decision Tree Regression on the World Population\n",
    "© Explore Data Science Academy"
   ]
  },
  {
   "cell_type": "markdown",
   "metadata": {},
   "source": [
    "In this test we'll train a simple decision tree model using the world population data from the Analyse Practical Exam. \n",
    "\n",
    "<img src=\"https://github.com/Explore-AI/Pictures/blob/master/population.png?raw=true\">"
   ]
  },
  {
   "cell_type": "markdown",
   "metadata": {},
   "source": [
    "## Honour Code\n",
    "\n",
    "I **YOUR NAME, YOUR SURNAME**, confirm - by submitting this document - that the solutions in this notebook are a result of my own work and that I abide by the EDSA honour code (https://drive.google.com/file/d/1QDCjGZJ8-FmJE3bZdIQNwnJyQKPhHZBn/view?usp=sharing).\n",
    "\n",
    "Non-compliance with the honour code constitutes a material breach of contract.\n"
   ]
  },
  {
   "cell_type": "markdown",
   "metadata": {},
   "source": [
    "### Imports"
   ]
  },
  {
   "cell_type": "code",
   "execution_count": 1,
   "metadata": {},
   "outputs": [],
   "source": [
    "import numpy as np\n",
    "import pandas as pd\n",
    "from sklearn.tree import DecisionTreeRegressor"
   ]
  },
  {
   "cell_type": "code",
   "execution_count": 2,
   "metadata": {},
   "outputs": [],
   "source": [
    "population_df = pd.read_csv('https://raw.githubusercontent.com/Explore-AI/Public-Data/master/AnalyseProject/world_population.csv', index_col='Country Code')"
   ]
  },
  {
   "cell_type": "code",
   "execution_count": 3,
   "metadata": {},
   "outputs": [
    {
     "data": {
      "text/html": [
       "<div>\n",
       "<style scoped>\n",
       "    .dataframe tbody tr th:only-of-type {\n",
       "        vertical-align: middle;\n",
       "    }\n",
       "\n",
       "    .dataframe tbody tr th {\n",
       "        vertical-align: top;\n",
       "    }\n",
       "\n",
       "    .dataframe thead th {\n",
       "        text-align: right;\n",
       "    }\n",
       "</style>\n",
       "<table border=\"1\" class=\"dataframe\">\n",
       "  <thead>\n",
       "    <tr style=\"text-align: right;\">\n",
       "      <th></th>\n",
       "      <th>1960</th>\n",
       "      <th>1961</th>\n",
       "      <th>1962</th>\n",
       "      <th>1963</th>\n",
       "      <th>1964</th>\n",
       "      <th>1965</th>\n",
       "      <th>1966</th>\n",
       "      <th>1967</th>\n",
       "      <th>1968</th>\n",
       "      <th>1969</th>\n",
       "      <th>...</th>\n",
       "      <th>2008</th>\n",
       "      <th>2009</th>\n",
       "      <th>2010</th>\n",
       "      <th>2011</th>\n",
       "      <th>2012</th>\n",
       "      <th>2013</th>\n",
       "      <th>2014</th>\n",
       "      <th>2015</th>\n",
       "      <th>2016</th>\n",
       "      <th>2017</th>\n",
       "    </tr>\n",
       "    <tr>\n",
       "      <th>Country Code</th>\n",
       "      <th></th>\n",
       "      <th></th>\n",
       "      <th></th>\n",
       "      <th></th>\n",
       "      <th></th>\n",
       "      <th></th>\n",
       "      <th></th>\n",
       "      <th></th>\n",
       "      <th></th>\n",
       "      <th></th>\n",
       "      <th></th>\n",
       "      <th></th>\n",
       "      <th></th>\n",
       "      <th></th>\n",
       "      <th></th>\n",
       "      <th></th>\n",
       "      <th></th>\n",
       "      <th></th>\n",
       "      <th></th>\n",
       "      <th></th>\n",
       "      <th></th>\n",
       "    </tr>\n",
       "  </thead>\n",
       "  <tbody>\n",
       "    <tr>\n",
       "      <th>ABW</th>\n",
       "      <td>54211.0</td>\n",
       "      <td>55438.0</td>\n",
       "      <td>56225.0</td>\n",
       "      <td>56695.0</td>\n",
       "      <td>57032.0</td>\n",
       "      <td>57360.0</td>\n",
       "      <td>57715.0</td>\n",
       "      <td>58055.0</td>\n",
       "      <td>58386.0</td>\n",
       "      <td>58726.0</td>\n",
       "      <td>...</td>\n",
       "      <td>101353.0</td>\n",
       "      <td>101453.0</td>\n",
       "      <td>101669.0</td>\n",
       "      <td>102053.0</td>\n",
       "      <td>102577.0</td>\n",
       "      <td>103187.0</td>\n",
       "      <td>103795.0</td>\n",
       "      <td>104341.0</td>\n",
       "      <td>104822.0</td>\n",
       "      <td>105264.0</td>\n",
       "    </tr>\n",
       "    <tr>\n",
       "      <th>AFG</th>\n",
       "      <td>8996351.0</td>\n",
       "      <td>9166764.0</td>\n",
       "      <td>9345868.0</td>\n",
       "      <td>9533954.0</td>\n",
       "      <td>9731361.0</td>\n",
       "      <td>9938414.0</td>\n",
       "      <td>10152331.0</td>\n",
       "      <td>10372630.0</td>\n",
       "      <td>10604346.0</td>\n",
       "      <td>10854428.0</td>\n",
       "      <td>...</td>\n",
       "      <td>27294031.0</td>\n",
       "      <td>28004331.0</td>\n",
       "      <td>28803167.0</td>\n",
       "      <td>29708599.0</td>\n",
       "      <td>30696958.0</td>\n",
       "      <td>31731688.0</td>\n",
       "      <td>32758020.0</td>\n",
       "      <td>33736494.0</td>\n",
       "      <td>34656032.0</td>\n",
       "      <td>35530081.0</td>\n",
       "    </tr>\n",
       "    <tr>\n",
       "      <th>AGO</th>\n",
       "      <td>5643182.0</td>\n",
       "      <td>5753024.0</td>\n",
       "      <td>5866061.0</td>\n",
       "      <td>5980417.0</td>\n",
       "      <td>6093321.0</td>\n",
       "      <td>6203299.0</td>\n",
       "      <td>6309770.0</td>\n",
       "      <td>6414995.0</td>\n",
       "      <td>6523791.0</td>\n",
       "      <td>6642632.0</td>\n",
       "      <td>...</td>\n",
       "      <td>21759420.0</td>\n",
       "      <td>22549547.0</td>\n",
       "      <td>23369131.0</td>\n",
       "      <td>24218565.0</td>\n",
       "      <td>25096150.0</td>\n",
       "      <td>25998340.0</td>\n",
       "      <td>26920466.0</td>\n",
       "      <td>27859305.0</td>\n",
       "      <td>28813463.0</td>\n",
       "      <td>29784193.0</td>\n",
       "    </tr>\n",
       "    <tr>\n",
       "      <th>ALB</th>\n",
       "      <td>1608800.0</td>\n",
       "      <td>1659800.0</td>\n",
       "      <td>1711319.0</td>\n",
       "      <td>1762621.0</td>\n",
       "      <td>1814135.0</td>\n",
       "      <td>1864791.0</td>\n",
       "      <td>1914573.0</td>\n",
       "      <td>1965598.0</td>\n",
       "      <td>2022272.0</td>\n",
       "      <td>2081695.0</td>\n",
       "      <td>...</td>\n",
       "      <td>2947314.0</td>\n",
       "      <td>2927519.0</td>\n",
       "      <td>2913021.0</td>\n",
       "      <td>2905195.0</td>\n",
       "      <td>2900401.0</td>\n",
       "      <td>2895092.0</td>\n",
       "      <td>2889104.0</td>\n",
       "      <td>2880703.0</td>\n",
       "      <td>2876101.0</td>\n",
       "      <td>2873457.0</td>\n",
       "    </tr>\n",
       "    <tr>\n",
       "      <th>AND</th>\n",
       "      <td>13411.0</td>\n",
       "      <td>14375.0</td>\n",
       "      <td>15370.0</td>\n",
       "      <td>16412.0</td>\n",
       "      <td>17469.0</td>\n",
       "      <td>18549.0</td>\n",
       "      <td>19647.0</td>\n",
       "      <td>20758.0</td>\n",
       "      <td>21890.0</td>\n",
       "      <td>23058.0</td>\n",
       "      <td>...</td>\n",
       "      <td>83861.0</td>\n",
       "      <td>84462.0</td>\n",
       "      <td>84449.0</td>\n",
       "      <td>83751.0</td>\n",
       "      <td>82431.0</td>\n",
       "      <td>80788.0</td>\n",
       "      <td>79223.0</td>\n",
       "      <td>78014.0</td>\n",
       "      <td>77281.0</td>\n",
       "      <td>76965.0</td>\n",
       "    </tr>\n",
       "  </tbody>\n",
       "</table>\n",
       "<p>5 rows × 58 columns</p>\n",
       "</div>"
      ],
      "text/plain": [
       "                   1960       1961       1962       1963       1964  \\\n",
       "Country Code                                                          \n",
       "ABW             54211.0    55438.0    56225.0    56695.0    57032.0   \n",
       "AFG           8996351.0  9166764.0  9345868.0  9533954.0  9731361.0   \n",
       "AGO           5643182.0  5753024.0  5866061.0  5980417.0  6093321.0   \n",
       "ALB           1608800.0  1659800.0  1711319.0  1762621.0  1814135.0   \n",
       "AND             13411.0    14375.0    15370.0    16412.0    17469.0   \n",
       "\n",
       "                   1965        1966        1967        1968        1969  ...  \\\n",
       "Country Code                                                             ...   \n",
       "ABW             57360.0     57715.0     58055.0     58386.0     58726.0  ...   \n",
       "AFG           9938414.0  10152331.0  10372630.0  10604346.0  10854428.0  ...   \n",
       "AGO           6203299.0   6309770.0   6414995.0   6523791.0   6642632.0  ...   \n",
       "ALB           1864791.0   1914573.0   1965598.0   2022272.0   2081695.0  ...   \n",
       "AND             18549.0     19647.0     20758.0     21890.0     23058.0  ...   \n",
       "\n",
       "                    2008        2009        2010        2011        2012  \\\n",
       "Country Code                                                               \n",
       "ABW             101353.0    101453.0    101669.0    102053.0    102577.0   \n",
       "AFG           27294031.0  28004331.0  28803167.0  29708599.0  30696958.0   \n",
       "AGO           21759420.0  22549547.0  23369131.0  24218565.0  25096150.0   \n",
       "ALB            2947314.0   2927519.0   2913021.0   2905195.0   2900401.0   \n",
       "AND              83861.0     84462.0     84449.0     83751.0     82431.0   \n",
       "\n",
       "                    2013        2014        2015        2016        2017  \n",
       "Country Code                                                              \n",
       "ABW             103187.0    103795.0    104341.0    104822.0    105264.0  \n",
       "AFG           31731688.0  32758020.0  33736494.0  34656032.0  35530081.0  \n",
       "AGO           25998340.0  26920466.0  27859305.0  28813463.0  29784193.0  \n",
       "ALB            2895092.0   2889104.0   2880703.0   2876101.0   2873457.0  \n",
       "AND              80788.0     79223.0     78014.0     77281.0     76965.0  \n",
       "\n",
       "[5 rows x 58 columns]"
      ]
     },
     "execution_count": 3,
     "metadata": {},
     "output_type": "execute_result"
    }
   ],
   "source": [
    "population_df.head()"
   ]
  },
  {
   "cell_type": "markdown",
   "metadata": {},
   "source": [
    "### Question 1: Population Growth"
   ]
  },
  {
   "cell_type": "markdown",
   "metadata": {},
   "source": [
    "The world population data spans from 1960 to 2017. We'd like to build a predictive model that can give us the best guess at what the population growth rate in a given year might be. We will calculate the population growth rate as follows:-\n",
    "\n",
    "$$\n",
    "Growth\\_rate = \\frac{current\\_year\\_population - previous\\_year\\_population}{previous\\_year\\_population}\n",
    "$$\n",
    "\n",
    "As such, we can only calculate the growth rate for the year 1961 onwards.\n",
    "\n",
    "Write a function that takes the `population_df` and a `country_code` as input and computes the population growth rate for a given country starting from the year 1961. This function must return a return a 2-d numpy array that contains the year and corresponding growth rate for the country.\n",
    "\n",
    "_**Function Specifications:**_\n",
    "* Should take a `population_df` and `country_code` string as input and return a numpy `array` as output.\n",
    "* The array should only have two columns containing the year and the population growth rate, in other words, it should have a shape `(?, 2)` where `?` is the length of the data.\n"
   ]
  },
  {
   "cell_type": "code",
   "execution_count": 4,
   "metadata": {},
   "outputs": [],
   "source": [
    "### START FUNCTION\n",
    "def get_population_growth_rate_by_country_year(df,country_code):\n",
    "    \n",
    "    df1 = df.copy()\n",
    "    df1 = df1.T\n",
    "    df2 = df1[country_code].pct_change()\n",
    "    df2 = df2.reset_index()\n",
    "    df2 = df2.to_numpy()\n",
    "    for tiny_array in df2:\n",
    "        tiny_array[0] = int(tiny_array[0])\n",
    "        tiny_array[1] = round(float(tiny_array[1]),5)\n",
    "    df2 = np.delete(df2, 0, axis=0)\n",
    "    return df2\n",
    "    \n",
    "\n",
    "### END FUNCTION"
   ]
  },
  {
   "cell_type": "code",
   "execution_count": 12,
   "metadata": {},
   "outputs": [
    {
     "data": {
      "text/plain": [
       "array([[ 1.96100000e+03,  2.26337828e-02],\n",
       "       [ 1.96200000e+03,  1.41960388e-02],\n",
       "       [ 1.96300000e+03,  8.35927079e-03],\n",
       "       [ 1.96400000e+03,  5.94408678e-03],\n",
       "       [ 1.96500000e+03,  5.75115725e-03],\n",
       "       [ 1.96600000e+03,  6.18898187e-03],\n",
       "       [ 1.96700000e+03,  5.89101620e-03],\n",
       "       [ 1.96800000e+03,  5.70148997e-03],\n",
       "       [ 1.96900000e+03,  5.82331381e-03],\n",
       "       [ 1.97000000e+03,  5.73851446e-03],\n",
       "       [ 1.97100000e+03,  6.38301475e-03],\n",
       "       [ 1.97200000e+03,  6.72947510e-03],\n",
       "       [ 1.97300000e+03,  6.73462567e-03],\n",
       "       [ 1.97400000e+03,  4.73084010e-03],\n",
       "       [ 1.97500000e+03,  2.13124504e-03],\n",
       "       [ 1.97600000e+03, -1.17051618e-03],\n",
       "       [ 1.97700000e+03, -3.63120193e-03],\n",
       "       [ 1.97800000e+03, -4.35675711e-03],\n",
       "       [ 1.97900000e+03, -2.04648686e-03],\n",
       "       [ 1.98000000e+03,  1.93397799e-03],\n",
       "       [ 1.98100000e+03,  7.83746006e-03],\n",
       "       [ 1.98200000e+03,  1.28452788e-02],\n",
       "       [ 1.98300000e+03,  1.39538675e-02],\n",
       "       [ 1.98400000e+03,  1.02088391e-02],\n",
       "       [ 1.98500000e+03,  3.02374435e-03],\n",
       "       [ 1.98600000e+03, -6.06099070e-03],\n",
       "       [ 1.98700000e+03, -1.29461720e-02],\n",
       "       [ 1.98800000e+03, -1.21941358e-02],\n",
       "       [ 1.98900000e+03, -7.69495244e-04],\n",
       "       [ 1.99000000e+03,  1.83018744e-02],\n",
       "       [ 1.99100000e+03,  3.97914689e-02],\n",
       "       [ 1.99200000e+03,  5.59097521e-02],\n",
       "       [ 1.99300000e+03,  6.25632007e-02],\n",
       "       [ 1.99400000e+03,  5.78726691e-02],\n",
       "       [ 1.99500000e+03,  4.72490222e-02],\n",
       "       [ 1.99600000e+03,  3.58049898e-02],\n",
       "       [ 1.99700000e+03,  2.70552885e-02],\n",
       "       [ 1.99800000e+03,  2.13689717e-02],\n",
       "       [ 1.99900000e+03,  1.97990307e-02],\n",
       "       [ 2.00000000e+03,  2.07628785e-02],\n",
       "       [ 2.00100000e+03,  2.25088880e-02],\n",
       "       [ 2.00200000e+03,  2.25408513e-02],\n",
       "       [ 2.00300000e+03,  2.13175846e-02],\n",
       "       [ 2.00400000e+03,  1.77288516e-02],\n",
       "       [ 2.00500000e+03,  1.31055228e-02],\n",
       "       [ 2.00600000e+03,  8.00751767e-03],\n",
       "       [ 2.00700000e+03,  3.84798477e-03],\n",
       "       [ 2.00800000e+03,  1.31396957e-03],\n",
       "       [ 2.00900000e+03,  9.86650617e-04],\n",
       "       [ 2.01000000e+03,  2.12906469e-03],\n",
       "       [ 2.01100000e+03,  3.77696250e-03],\n",
       "       [ 2.01200000e+03,  5.13458693e-03],\n",
       "       [ 2.01300000e+03,  5.94675220e-03],\n",
       "       [ 2.01400000e+03,  5.89221510e-03],\n",
       "       [ 2.01500000e+03,  5.26036900e-03],\n",
       "       [ 2.01600000e+03,  4.60988490e-03],\n",
       "       [ 2.01700000e+03,  4.21667207e-03]])"
      ]
     },
     "execution_count": 12,
     "metadata": {},
     "output_type": "execute_result"
    }
   ],
   "source": [
    "get_population_growth_rate_by_country_year(population_df,'ABW')"
   ]
  },
  {
   "cell_type": "markdown",
   "metadata": {},
   "source": [
    "_**Expected Outputs:**_\n",
    "```python\n",
    "get_population_growth_rate_by_country_year(population_df,'ABW')\n",
    "```\n",
    "> ```\n",
    " array([[ 1.96100000e+03,  2.26337828e-02],\n",
    "        [ 1.96200000e+03,  1.41960388e-02],\n",
    "        [ 1.96300000e+03,  8.35927079e-03],\n",
    "        [ 1.96400000e+03,  5.94408678e-03],\n",
    "         ...\n",
    "        [ 2.01400000e+03,  5.89221510e-03],\n",
    "        [ 2.01500000e+03,  5.26036900e-03],\n",
    "        [ 2.01600000e+03,  4.60988490e-03],\n",
    "        [ 2.01700000e+03,  4.21667207e-03]])\n",
    "```\n",
    "\n",
    "\n"
   ]
  },
  {
   "cell_type": "markdown",
   "metadata": {},
   "source": [
    "### Question 2: Even-Odd Train-Test Split\n",
    "\n",
    "Now that we have have our data, we need to split this into a set of variables we will be training on, and the set of variables that we will make our predictions on. In this case, we're splitting the values such that the training set consists of growth rates for even years and the test consists of growth rates for odd years. We also need to split our data into the predictive features (denoted `X`) and the response (denoted `y`). \n",
    "\n",
    "Write a function that will take as input a 2-d numpy array and return four variables in the form of `(X_train, y_train), (X_test, y_test)`, where `(X_train, y_train)` are the features / response of the training set, and `(X-test, y_test)` are the feautes / response of the testing set where the training and testing data consists of even and odd years respectively: \n",
    "\n",
    "_**Function Specifications:**_\n",
    "* Should take a 2-d numpy `array` as input.\n",
    "* Should return two `tuples` of the form `(X_train, y_train), (X_test, y_test)`.\n",
    "* `(X_train, y_train)` should consist of data from even years and `(X_test, y_test)` should consist of data from odd years."
   ]
  },
  {
   "cell_type": "code",
   "execution_count": 5,
   "metadata": {},
   "outputs": [],
   "source": [
    "### START FUNCTION\n",
    "def feature_response_split(arr):\n",
    "    # your code here\n",
    "    \n",
    "    X_train = []\n",
    "    y_train = []\n",
    "    X_test = []\n",
    "    y_test = []\n",
    "    \n",
    "    for tiny_array in arr:\n",
    "        if tiny_array[0]%2==0:\n",
    "            X_train.append(tiny_array[0])\n",
    "            y_train.append(tiny_array[1])\n",
    "        else:\n",
    "            X_test.append(tiny_array[0])\n",
    "            y_test.append(tiny_array[1])\n",
    "    \n",
    "    X_train = np.array(X_train)\n",
    "    y_train = np.array(y_train)\n",
    "    X_test = np.array(X_test)\n",
    "    y_test = np.array(y_test)\n",
    "    \n",
    "    \n",
    "    return (X_train, y_train), (X_test, y_test)\n",
    "\n",
    "### END FUNCTION"
   ]
  },
  {
   "cell_type": "code",
   "execution_count": 14,
   "metadata": {},
   "outputs": [],
   "source": [
    "data = get_population_growth_rate_by_country_year(population_df,'ABW');\n",
    "(X_train, y_train), (X_test, y_test) = feature_response_split(data)"
   ]
  },
  {
   "cell_type": "markdown",
   "metadata": {},
   "source": [
    "_**Expected Outputs:**_\n",
    "```python\n",
    "data = get_total_population_by_country_year()\n",
    "feature_response_split(data)\n",
    "```\n",
    "> ```\n",
    "X_train == array([1962., 1964., 1966., 1968., 1970., 1972., 1974., 1976., 1978.,\n",
    "       1980., 1982., 1984., 1986., 1988., 1990., 1992., 1994., 1996.,\n",
    "       1998., 2000., 2002., 2004., 2006., 2008., 2010., 2012., 2014.,\n",
    "       2016.])\n",
    "```\n",
    "\n",
    "> ```\n",
    "y_train ==  array([ 0.01419604,  0.00594409,  0.00618898,  0.00570149,  0.00573851,\n",
    "        0.00672948,  0.00473084, -0.00117052, -0.00435676,  0.00193398,\n",
    "        0.01284528,  0.01020884, -0.00606099, -0.01219414,  0.01830187,\n",
    "        0.05590975,  0.05787267,  0.03580499,  0.02136897,  0.02076288,\n",
    "        0.02254085,  0.01772885,  0.00800752,  0.00131397,  0.00212906,\n",
    "        0.00513459,  0.00589222,  0.00460988])\n",
    "```\n",
    "\n",
    "> ```\n",
    "X_test == array([1961., 1963., 1965., 1967., 1969., 1971., 1973., 1975., 1977.,\n",
    "       1979., 1981., 1983., 1985., 1987., 1989., 1991., 1993., 1995.,\n",
    "       1997., 1999., 2001., 2003., 2005., 2007., 2009., 2011., 2013.,\n",
    "       2015., 2017.])\n",
    "```\n",
    "\n",
    "> ```\n",
    "y_test == array([ 0.02263378,  0.00835927,  0.00575116,  0.00589102,  0.00582331,\n",
    "        0.00638301,  0.00673463,  0.00213125, -0.0036312 , -0.00204649,\n",
    "        0.00783746,  0.01395387,  0.00302374, -0.01294617, -0.0007695 ,\n",
    "        0.03979147,  0.0625632 ,  0.04724902,  0.02705529,  0.01979903,\n",
    "        0.02250889,  0.02131758,  0.01310552,  0.00384798,  0.00098665,\n",
    "        0.00377696,  0.00594675,  0.00526037,  0.00421667])      \n",
    " ```"
   ]
  },
  {
   "cell_type": "markdown",
   "metadata": {},
   "source": [
    "### Question 3\n",
    "\n",
    "Now that we have formatted our data, we can fit a model using sklearn's `DecisionTreeRegressor` class. We'll write a function that will take as input the features and response variables that we created in the last question, and return a trained model.\n",
    "\n",
    "_**Function Specifications:**_\n",
    "* Should take two numpy `arrays` as input in the form `(X_train, y_train)` as well as a `MaxDepth` int corresponding to the max_depth hyperparameter in decision trees.\n",
    "* Should return an sklearn `DecisionTreeRegressor` model.\n",
    "* The returned model should be fitted to the data.\n",
    "\n",
    "_**Hint:**_\n",
    "You may need to reshape the data within the function. You can use `.reshape(-1, 1)` to do this.\n"
   ]
  },
  {
   "cell_type": "code",
   "execution_count": 6,
   "metadata": {},
   "outputs": [],
   "source": [
    "### START FUNCTION\n",
    "def train_model(X_train, y_train, MaxDepth):\n",
    "    \n",
    "    X_train = X_train.reshape(-1,1)\n",
    "    y_train = y_train.reshape(-1,1)\n",
    "    regr_tree = DecisionTreeRegressor(max_depth=MaxDepth,random_state=42)\n",
    "    \n",
    "    return regr_tree.fit(X_train,y_train)\n",
    "\n",
    "### END FUNCTION"
   ]
  },
  {
   "cell_type": "code",
   "execution_count": 81,
   "metadata": {},
   "outputs": [
    {
     "data": {
      "text/plain": [
       "array([0.00451454])"
      ]
     },
     "execution_count": 81,
     "metadata": {},
     "output_type": "execute_result"
    }
   ],
   "source": [
    "data = get_population_growth_rate_by_country_year(population_df,'ABW')\n",
    "(X_train, y_train), _ = feature_response_split(data)\n",
    "\n",
    "train_model(X_train, y_train,3).predict([[2017]])"
   ]
  },
  {
   "cell_type": "markdown",
   "metadata": {},
   "source": [
    "_**Expected Outputs:**_\n",
    "```python\n",
    "train_model(X_train, y_train,3).predict([[2017]]) == array([0.00451454])\n",
    "```"
   ]
  },
  {
   "cell_type": "markdown",
   "metadata": {},
   "source": [
    "### Question 4\n",
    "\n",
    "We would now like to test on our testing data that we produced from Question 2. This test will give the Root Mean Squared Logarithmic Error (RMSLE), which is given by:\n",
    "\n",
    "$$\n",
    "RMSLE = \\sqrt{\\frac{1}{N}\\sum_{i=1}^N [log(1+p_i) - log(1+y_i)]^2}\n",
    "$$\n",
    "\n",
    "where $p_i$ refers to the $i^{\\rm th}$ prediction made from `X_test`, $y_i$ refers to the $i^{\\rm th}$ value in `y_test`, and $N$ is the length of `y_test`.\n",
    "\n",
    "_**Function Specifications:**_\n",
    "* Should take a trained model and two `arrays` as input. This will be the `X_test` and `y_test` variables from Question 2. \n",
    "* Should return the residual sum of squares over the input from the predicted values of `X_test` as compared to values of `y_test`.\n",
    "* The output should be a `float` rounded to 3 decimal places.\n"
   ]
  },
  {
   "cell_type": "code",
   "execution_count": 7,
   "metadata": {},
   "outputs": [],
   "source": [
    "### START FUNCTION\n",
    "def test_model(model, y_test, X_test):\n",
    "    \n",
    "    from sklearn.metrics import mean_squared_error\n",
    "    \n",
    "    y_pred = model.predict(X_test.reshape(-1,1))\n",
    "    MSE = mean_squared_error(y_pred,y_test)\n",
    "    \n",
    "    return round(np.sqrt(MSE),3)\n",
    "\n",
    "### END FUNCTION"
   ]
  },
  {
   "cell_type": "code",
   "execution_count": 11,
   "metadata": {},
   "outputs": [
    {
     "data": {
      "text/plain": [
       "True"
      ]
     },
     "execution_count": 11,
     "metadata": {},
     "output_type": "execute_result"
    }
   ],
   "source": [
    "data = get_population_growth_rate_by_country_year(population_df,'ABW')\n",
    "(X_train, y_train), (X_test, y_test) = feature_response_split(data)\n",
    "\n",
    "lm = train_model(X_train, y_train,3)\n",
    "\n",
    "test_model(lm, y_test, X_test) == 0.008"
   ]
  },
  {
   "cell_type": "code",
   "execution_count": 79,
   "metadata": {},
   "outputs": [
    {
     "data": {
      "text/plain": [
       "0.008"
      ]
     },
     "execution_count": 79,
     "metadata": {},
     "output_type": "execute_result"
    }
   ],
   "source": [
    "test_model(lm, y_test, X_test)"
   ]
  },
  {
   "cell_type": "markdown",
   "metadata": {},
   "source": [
    "_**Expected Outputs:**_\n",
    "```python\n",
    "test_model(lm, X_test, y_test) == 0.008\n",
    "```"
   ]
  }
 ],
 "metadata": {
  "kernelspec": {
   "display_name": "Python 3",
   "language": "python",
   "name": "python3"
  },
  "language_info": {
   "codemirror_mode": {
    "name": "ipython",
    "version": 3
   },
   "file_extension": ".py",
   "mimetype": "text/x-python",
   "name": "python",
   "nbconvert_exporter": "python",
   "pygments_lexer": "ipython3",
   "version": "3.7.4"
  }
 },
 "nbformat": 4,
 "nbformat_minor": 2
}
